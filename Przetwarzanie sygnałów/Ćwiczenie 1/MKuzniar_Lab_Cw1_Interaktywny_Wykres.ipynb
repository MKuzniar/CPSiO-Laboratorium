{
 "cells": [
  {
   "cell_type": "markdown",
   "id": "ordinary-partner",
   "metadata": {},
   "source": [
    "# Przetwarzanie i analiza sygnału EKG\n",
    "\n",
    "### Mirosław Kuźniar, nr indeksu: 248870"
   ]
  },
  {
   "cell_type": "markdown",
   "id": "affected-trick",
   "metadata": {},
   "source": [
    "### Ćwiczenie 1 - Interaktywny wykres"
   ]
  },
  {
   "cell_type": "code",
   "execution_count": 1,
   "id": "latest-taiwan",
   "metadata": {},
   "outputs": [],
   "source": [
    "%matplotlib widget"
   ]
  },
  {
   "cell_type": "code",
   "execution_count": 2,
   "id": "normal-cardiff",
   "metadata": {},
   "outputs": [],
   "source": [
    "import numpy as np \n",
    "import pandas as pd\n",
    "import matplotlib.pyplot as plt"
   ]
  },
  {
   "cell_type": "markdown",
   "id": "valid-question",
   "metadata": {},
   "source": [
    "Program powinien umozliwiac obserwowanie wycinka\n",
    "sygnału dla zadanego przedziału czasowego, skalowanie osi wykresów i ich opis oraz\n",
    "zapis dowolnego wycinka sygnału do pliku o podanej nazwie."
   ]
  },
  {
   "cell_type": "code",
   "execution_count": 3,
   "id": "infrared-greensboro",
   "metadata": {},
   "outputs": [
    {
     "data": {
      "application/vnd.jupyter.widget-view+json": {
       "model_id": "e71fc971c34641c59077ce1df0a2125f",
       "version_major": 2,
       "version_minor": 0
      },
      "text/plain": [
       "Canvas(toolbar=Toolbar(toolitems=[('Home', 'Reset original view', 'home', 'home'), ('Back', 'Back to previous …"
      ]
     },
     "metadata": {},
     "output_type": "display_data"
    },
    {
     "data": {
      "text/plain": [
       "Text(0, 0.5, 'Wartość')"
      ]
     },
     "execution_count": 3,
     "metadata": {},
     "output_type": "execute_result"
    }
   ],
   "source": [
    "ekg_noise = pd.read_csv('../ekg_noise.txt', names=['Czas', 'Wartość amplitudy'], sep='\\s+')\n",
    "\n",
    "ekg_noise = ekg_noise.set_index('Czas')\n",
    "\n",
    "plt.figure(figsize=(9,5))\n",
    "\n",
    "plt.subplot(1, 1, 1)\n",
    "plt.plot(ekg_noise)\n",
    "plt.title('ekg_noise.txt')\n",
    "plt.xlabel('Czas[s]')\n",
    "plt.ylabel('Wartość')"
   ]
  },
  {
   "cell_type": "code",
   "execution_count": null,
   "id": "wrong-season",
   "metadata": {},
   "outputs": [],
   "source": []
  }
 ],
 "metadata": {
  "kernelspec": {
   "display_name": "Python 3",
   "language": "python",
   "name": "python3"
  },
  "language_info": {
   "codemirror_mode": {
    "name": "ipython",
    "version": 3
   },
   "file_extension": ".py",
   "mimetype": "text/x-python",
   "name": "python",
   "nbconvert_exporter": "python",
   "pygments_lexer": "ipython3",
   "version": "3.9.1"
  }
 },
 "nbformat": 4,
 "nbformat_minor": 5
}
